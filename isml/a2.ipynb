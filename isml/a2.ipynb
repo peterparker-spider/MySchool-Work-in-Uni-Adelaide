{
 "cells": [
  {
   "cell_type": "code",
   "execution_count": 1,
   "metadata": {},
   "outputs": [],
   "source": [
    "import pandas as pd\n",
    "import cvxpy as cp\n",
    "import numpy as np\n",
    "from sklearn.svm import LinearSVC\n",
    "import warnings\n",
    "warnings.filterwarnings('ignore')"
   ]
  },
  {
   "cell_type": "code",
   "execution_count": 2,
   "metadata": {},
   "outputs": [],
   "source": [
    "\n",
    "def loadDataFromFile(trainFilePath: str, testFilePath: str):\n",
    "    dfTrain = pd.read_csv(trainFilePath, header=None)\n",
    "    dfTest = pd.read_csv(testFilePath, header=None)\n",
    "\n",
    "    xTrainData = dfTrain.iloc[:4000, 1:]\n",
    "    xValidationData = dfTrain.iloc[4000:, 1:]\n",
    "    xTestData = dfTest.iloc[:, 1:]\n",
    "\n",
    "    yTrain = dfTrain.iloc[:4000, 0]\n",
    "    yValidataion = dfTrain.iloc[4000:, 0]\n",
    "    yTest = dfTest.iloc[:, 0]   \n",
    "\n",
    "   \n",
    "    yTrain[yTrain == 0] = -1\n",
    "    yValidataion[yValidataion == 0] = -1\n",
    "    yTest[yTest == 0] = -1\n",
    "\n",
    "   \n",
    "    xTrainData, xValidationData, xTestData = np.array(xTrainData), np.array(xValidationData), np.array(xTestData)\n",
    "    yTrain, yValidataion, yTest = np.array(yTrain), np.array(yValidataion), np.array(yTest)\n",
    "\n",
    "\n",
    "    return xTrainData, xValidationData, xTestData, yTrain, yValidataion, yTest"
   ]
  },
  {
   "cell_type": "code",
   "execution_count": 3,
   "metadata": {},
   "outputs": [],
   "source": [
    "x_train, x_validation, x_test, \\\n",
    "y_train, y_validation, y_test = \\\n",
    "loadDataFromFile(\"data/train.csv\", \"data/test.csv\")"
   ]
  },
  {
   "cell_type": "markdown",
   "metadata": {},
   "source": [
    "Question 2 "
   ]
  },
  {
   "cell_type": "code",
   "execution_count": 4,
   "metadata": {},
   "outputs": [],
   "source": [
    "\n",
    "def svm_train_primal(data_train, label_train, regularisation_para_C):\n",
    "    train_data_size = data_train.shape[0]\n",
    "    train_data_dimension = data_train.shape[1]\n",
    "\n",
    "   \n",
    "    W = cp.Variable((train_data_dimension, 1))\n",
    "    B = cp.Variable()\n",
    "    XI = cp.Variable((train_data_size, 1))\n",
    "\n",
    "    objective = cp.Minimize(0.5*cp.norm(W)**2 + (regularisation_para_C/train_data_size)*cp.sum(XI))\n",
    "    constraints = [cp.multiply(label_train.reshape((label_train.shape[0], 1)), data_train @ W + B) >= 1 - XI, XI >= 0]\n",
    "    prob = cp.Problem(objective, constraints)\n",
    "\n",
    "    result = prob.solve()\n",
    "    return [W.value, B.value]\n",
    "\n",
    "\n",
    "def svm_predict_primal(data_test, label_test, svm_model):\n",
    "    W, B = svm_model[0], svm_model[1]\n",
    "    predict_val = data_test @ W + B\n",
    "    predict_val = predict_val.reshape((predict_val.shape[0]))\n",
    "    predict_val = [1 if i > 0 else -1 for i in predict_val]\n",
    "    predict_val = np.array(predict_val)\n",
    "\n",
    "    tmp_result = np.multiply(predict_val,  label_test)\n",
    "    tmp_result = tmp_result[tmp_result == -1]\n",
    "    acc = (len(label_test) - len(tmp_result))/len(label_test)\n",
    "    return acc"
   ]
  },
  {
   "cell_type": "code",
   "execution_count": 5,
   "metadata": {},
   "outputs": [
    {
     "name": "stdout",
     "output_type": "stream",
     "text": [
      "primal svm solution   :\n",
      "value of b            :  1.779813717087077\n",
      "value of sum(w)       :  -0.1452156803361282\n",
      "train accuracy        :  0.9795\n",
      "validation accuracy   :  0.9695555555555555\n",
      "test accuracy         :  0.968\n"
     ]
    }
   ],
   "source": [
    "svm_model = svm_train_primal(x_train, y_train, regularisation_para_C=100)\n",
    "\n",
    "test_accuracy = svm_predict_primal(x_test, y_test, svm_model)\n",
    "train_accuracy = svm_predict_primal(x_train, y_train, svm_model)\n",
    "validation_accuracy = svm_predict_primal(x_validation, y_validation, svm_model)\n",
    "\n",
    "w, b = svm_model[0], svm_model[1]\n",
    "primal_svm_model = svm_model\n",
    "\n",
    "\n",
    "print(\"primal svm solution   :\")\n",
    "print(\"value of b            : \", b)\n",
    "print(\"value of sum(w)       : \", np.sum(w))\n",
    "print(\"train accuracy        : \", train_accuracy)\n",
    "print(\"validation accuracy   : \", validation_accuracy)\n",
    "print(\"test accuracy         : \", test_accuracy)"
   ]
  },
  {
   "cell_type": "markdown",
   "metadata": {},
   "source": [
    " Question3\n"
   ]
  },
  {
   "cell_type": "code",
   "execution_count": 6,
   "metadata": {},
   "outputs": [],
   "source": [
    "\n",
    "def svm_train_dual(data_train, label_train, regularisation_para_C):\n",
    "    train_data_size = data_train.shape[0]\n",
    "    train_data_dimension = data_train.shape[1]\n",
    "    label_train = label_train.reshape((label_train.shape[0]), 1)\n",
    "\n",
    " \n",
    "    dual_alpha = cp.Variable((train_data_size, 1), pos=True)\n",
    "\n",
    "    objective = cp.Maximize(cp.sum(dual_alpha) - 0.5*cp.sum_squares(data_train.T @ cp.multiply(dual_alpha, label_train)))\n",
    "    constraints = [0 <= dual_alpha, dual_alpha <= (regularisation_para_C/train_data_size), cp.sum(cp.multiply(dual_alpha, label_train)) == 0]\n",
    "    prob = cp.Problem(objective, constraints)\n",
    "\n",
    "    result = prob.solve()\n",
    "    dual_alpha = dual_alpha.value.reshape(dual_alpha.value.shape[0])\n",
    "\n",
    "    return dual_alpha"
   ]
  },
  {
   "cell_type": "code",
   "execution_count": 7,
   "metadata": {},
   "outputs": [
    {
     "name": "stdout",
     "output_type": "stream",
     "text": [
      "sum(alpha) of dual form svm:  7.291537861280817\n"
     ]
    }
   ],
   "source": [
    "svm_model = svm_train_dual(x_train, y_train, regularisation_para_C=100)\n",
    "alpha = svm_model\n",
    "print(\"sum(alpha) of dual form svm: \", np.sum(alpha))"
   ]
  },
  {
   "cell_type": "markdown",
   "metadata": {},
   "source": [
    "Question 4\n"
   ]
  },
  {
   "cell_type": "code",
   "execution_count": 8,
   "metadata": {},
   "outputs": [
    {
     "name": "stdout",
     "output_type": "stream",
     "text": [
      "Rebuild w*,b* from dual form svm a*:\n",
      "avg(b*) of dual form svm : 1.8192481044718076\n",
      "sum(w*) of dual form svm : -0.14136969422890688\n"
     ]
    }
   ],
   "source": [
    "WH = np.array(np.matrix(alpha).getH()) * y_train.reshape((y_train.shape[0], 1)) * x_train\n",
    "WH = np.sum(WH, axis=0)  \n",
    "\n",
    "BH = y_train.reshape((y_train.shape[0])) - (x_train @ WH)\n",
    "BH = BH[(0 < alpha) & (alpha < 100)]\n",
    "\n",
    "print(\"Rebuild w*,b* from dual form svm a*:\")\n",
    "print(\"avg(b*) of dual form svm :\", sum(BH)/len(BH))\n",
    "print(\"sum(w*) of dual form svm :\", sum(WH))"
   ]
  },
  {
   "cell_type": "markdown",
   "metadata": {},
   "source": [
    "Predict y from the reconstructed w b, and calculate the accuracy"
   ]
  },
  {
   "cell_type": "code",
   "execution_count": 9,
   "metadata": {},
   "outputs": [
    {
     "name": "stdout",
     "output_type": "stream",
     "text": [
      "Accuracy of model rebuild from dual form svm.\n",
      "validation accuracy  :  0.9695555555555555\n",
      "test accuracy        :  0.9686666666666667\n"
     ]
    }
   ],
   "source": [
    "dual_svm_model = [WH, sum(BH)/len(BH)]\n",
    "validation_accuracy = svm_predict_primal(x_validation, y_validation, dual_svm_model)\n",
    "test_accuracy = svm_predict_primal(x_test, y_test, dual_svm_model)\n",
    "print(\"Accuracy of model rebuild from dual form svm.\")\n",
    "print(\"validation accuracy  : \", validation_accuracy)\n",
    "print(\"test accuracy        : \", test_accuracy)"
   ]
  },
  {
   "cell_type": "markdown",
   "metadata": {},
   "source": [
    "Question 5\n"
   ]
  },
  {
   "cell_type": "code",
   "execution_count": 10,
   "metadata": {},
   "outputs": [],
   "source": [
    "\n",
    "def get_distance_of_vector(W, b, X):\n",
    "    dis = np.abs(X @ W + b) / cp.norm(W).value\n",
    "    dis = dis.reshape(dis.shape[0])\n",
    "    return dis\n",
    "\n",
    "\n",
    "def get_support_vector_of_primal_form(w, b, data, label):\n",
    "    dis = get_distance_of_vector(w, b, data)\n",
    "    predict_label = data @ w + b\n",
    "    predict_label = predict_label.reshape(predict_label.shape[0])\n",
    "    predict_label = [1 if i > 0 else -1 for i in predict_label]\n",
    "    pred_correct = np.multiply(label, predict_label)\n",
    "    pred_correct = (pred_correct == 1) + 0\n",
    "\n",
    "    neg_dis = dis * pred_correct * (label == -1)\n",
    "    pos_dis = dis * pred_correct * (label == 1)         \n",
    "\n",
    "\n",
    "    neg_min_dis_val = np.min(neg_dis[np.nonzero(neg_dis)])\n",
    "    pos_min_dis_val = np.min(pos_dis[np.nonzero(pos_dis)])\n",
    "\n",
    "    neg_min_vector_index = np.where(neg_dis == neg_min_dis_val)\n",
    "    pos_min_vector_index = np.where(pos_dis == pos_min_dis_val)\n",
    "\n",
    "\n",
    "    return neg_min_vector_index, pos_min_vector_index\n"
   ]
  },
  {
   "cell_type": "code",
   "execution_count": 11,
   "metadata": {},
   "outputs": [
    {
     "name": "stdout",
     "output_type": "stream",
     "text": [
      "Support vector of primal form svm: \n",
      "Class 1:  (array([2136]),)\n",
      "Class 0:  (array([1555]),)\n"
     ]
    }
   ],
   "source": [
    "neg_support_vec, pos_support_vec = get_support_vector_of_primal_form(w, b, x_train, y_train)\n",
    "print(\"Support vector of primal form svm: \")\n",
    "print(\"Class 1: \", pos_support_vec)\n",
    "print(\"Class 0: \", neg_support_vec)"
   ]
  },
  {
   "cell_type": "markdown",
   "metadata": {},
   "source": [
    "Question 6\n"
   ]
  },
  {
   "cell_type": "code",
   "execution_count": 12,
   "metadata": {},
   "outputs": [],
   "source": [
    "\n",
    "def get_support_vector_of_dual_form(w, b, data, label):\n",
    "    distance_ = get_distance_of_vector(w, b, data)\n",
    "    for idx in range(distance_.shape[0]):\n",
    "        if distance_[idx] - 1e-6 < 0:\n",
    "            distance_[idx] = 0\n",
    "    predict_label = data @ w + b\n",
    "    predict_label = predict_label.reshape(predict_label.shape[0])\n",
    "    predict_label = [1 if i > 0 else -1 for i in predict_label]\n",
    "    pred_correct = np.multiply(label, predict_label)\n",
    "    pred_correct = (pred_correct == 1) + 0\n",
    "\n",
    "    neg_dis = distance_ * pred_correct * (label == -1)\n",
    "    pos_dis = distance_ * pred_correct * (label == 1)\n",
    "\n",
    "    neg_min_dis_val = np.min(neg_dis[np.nonzero(neg_dis)])\n",
    "    pos_min_dis_val = np.min(pos_dis[np.nonzero(pos_dis)])\n",
    "\n",
    "    neg_support_vector = np.where(neg_dis == neg_min_dis_val)\n",
    "    pos_support_vector = np.where(pos_dis == pos_min_dis_val)\n",
    "\n",
    "    return neg_support_vector, pos_support_vector"
   ]
  },
  {
   "cell_type": "code",
   "execution_count": 13,
   "metadata": {},
   "outputs": [
    {
     "name": "stdout",
     "output_type": "stream",
     "text": [
      "Support vector of dual form: \n",
      "Class 1:  (array([2136]),)\n",
      "Class 0:  (array([587]),)\n"
     ]
    }
   ],
   "source": [
    "neg_support_vec, pos_support_vec = get_support_vector_of_dual_form(WH, sum(BH)/len(BH), x_train, y_train)\n",
    "print(\"Support vector of dual form: \")\n",
    "print(\"Class 1: \", pos_support_vec)\n",
    "print(\"Class 0: \", neg_support_vec)\n"
   ]
  },
  {
   "cell_type": "markdown",
   "metadata": {},
   "source": [
    " Question 7\n"
   ]
  },
  {
   "cell_type": "code",
   "execution_count": 14,
   "metadata": {},
   "outputs": [
    {
     "name": "stdout",
     "output_type": "stream",
     "text": [
      "Best C founded        :  4\n",
      "Test accuracy         :  0.9746666666666667\n"
     ]
    }
   ],
   "source": [
    "best_svm_model = None\n",
    "best_C = -10\n",
    "best_validation_acc = -10\n",
    "search_range = [2**i for i in range(-10, 11, 2)]\n",
    "\n",
    "for parameter_C in search_range:\n",
    "    W, B = svm_train_primal(x_train, y_train, parameter_C)\n",
    "    acc = svm_predict_primal(x_validation, y_validation, [W, B])\n",
    "\n",
    "   \n",
    "    if acc > best_validation_acc:\n",
    "        best_validation_acc = acc\n",
    "        best_svm_model = [W, B]\n",
    "        best_C = parameter_C\n",
    "\n",
    "best_w, best_b = best_svm_model[0], best_svm_model[1]\n",
    "best_test_acc = svm_predict_primal(x_test, y_test, best_svm_model)\n",
    "print(\"Best C founded        : \", best_C)\n",
    "print(\"Test accuracy         : \", best_test_acc)\n"
   ]
  },
  {
   "cell_type": "markdown",
   "metadata": {},
   "source": [
    "Question 8\n",
    "Please study one of the following packages and perform classification with linear\n",
    "SVM (with optimal C searched in the validation set) on the assignment dataset"
   ]
  },
  {
   "cell_type": "code",
   "execution_count": 15,
   "metadata": {},
   "outputs": [
    {
     "name": "stdout",
     "output_type": "stream",
     "text": [
      "SVM model of sklearn \n",
      "Best C:   0.00390625\n",
      "Test data accuracy with best c:  0.968\n"
     ]
    }
   ],
   "source": [
    "best_sklearn_svm_model = None\n",
    "best_sklearn_svm_validation_acc = -10\n",
    "best_sklearn_param_C = -10\n",
    "for parameter_C in search_range:\n",
    "    sklearn_linear_svm_model = LinearSVC(C=parameter_C, max_iter=20000)\n",
    "    sklearn_linear_svm_model.fit(x_train, y_train)\n",
    "    acc = sklearn_linear_svm_model.score(x_validation, y_validation)\n",
    "\n",
    "   \n",
    "    if acc > best_sklearn_svm_validation_acc:\n",
    "        best_sklearn_param_C = parameter_C\n",
    "        best_sklearn_svm_validation_acc = acc\n",
    "        best_sklearn_svm_model = sklearn_linear_svm_model\n",
    "\n",
    "\n",
    "sklearn_svm_model_test_acc = best_sklearn_svm_model.score(x_test, y_test)\n",
    "print(\"SVM model of sklearn \")\n",
    "print(\"Best C:  \", best_sklearn_param_C)\n",
    "print(\"Test data accuracy with best c: \", sklearn_svm_model_test_acc)"
   ]
  }
 ],
 "metadata": {
  "kernelspec": {
   "display_name": "Python 3.10.4 ('dl')",
   "language": "python",
   "name": "python3"
  },
  "language_info": {
   "codemirror_mode": {
    "name": "ipython",
    "version": 3
   },
   "file_extension": ".py",
   "mimetype": "text/x-python",
   "name": "python",
   "nbconvert_exporter": "python",
   "pygments_lexer": "ipython3",
   "version": "3.10.4"
  },
  "orig_nbformat": 4,
  "vscode": {
   "interpreter": {
    "hash": "0d5a60f7f72a1702d9c65e791e17c4f921202bf0556d646e504211058ae18cab"
   }
  }
 },
 "nbformat": 4,
 "nbformat_minor": 2
}
